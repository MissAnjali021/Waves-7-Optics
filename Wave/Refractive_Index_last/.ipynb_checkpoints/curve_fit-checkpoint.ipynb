{
 "cells": [
  {
   "cell_type": "code",
   "execution_count": 1,
   "metadata": {},
   "outputs": [
    {
     "ename": "SyntaxError",
     "evalue": "invalid syntax (<ipython-input-1-a1effefb92bd>, line 19)",
     "output_type": "error",
     "traceback": [
      "\u001b[0;36m  File \u001b[0;32m\"<ipython-input-1-a1effefb92bd>\"\u001b[0;36m, line \u001b[0;32m19\u001b[0m\n\u001b[0;31m    print(\"Angle of minimum deviation from Graph is:\\n\",min(y_cal),$\\textdegree$)\u001b[0m\n\u001b[0m                                                                   ^\u001b[0m\n\u001b[0;31mSyntaxError\u001b[0m\u001b[0;31m:\u001b[0m invalid syntax\n"
     ]
    }
   ],
   "source": [
    "import matplotlib.pyplot as plt\n",
    "from scipy.optimize import curve_fit\n",
    "import numpy as np\n",
    "def rad(x):\n",
    "    return (x * np.pi/180)\n",
    "\n",
    "def func(i,A,n):\n",
    "    return i - A + np.arcsin(n * np.sin(A - np.arcsin(np.sin(i)/n)))\n",
    "\n",
    "def min_dev(y_cal,xlim):\n",
    "    list = []\n",
    "    for j in range(len(y_cal)):\n",
    "        xlim[j]\n",
    "        if y_cal[j] == np.min(y_cal):\n",
    "            list.append(xlim[j])\n",
    "            list.append(np.min(y_cal))\n",
    "    mini = np.array(list)\n",
    "    print(\"\\nCoordinates of minima of the graph (x,y):\\n\",mini)\n",
    "    print(\"Angle of minimum deviation from Graph is:\\n\",min(y_cal)) \n",
    "    return mini\n",
    "    \n",
    "\n",
    "if __name__ == \"__main__\":\n",
    "    datax = np.array([30,35,40,45,50,55,60])\n",
    "    mean_dev_deg = np.array([47,41,38,37,37,37,39])\n",
    "    mean_dev_min = np.array([0,0,30,30,15,30,0])\n",
    "    datay= np.array((mean_dev_deg) + (mean_dev_min/60))\n",
    "    xlim = np.linspace(30,60,100)\n",
    "    print(datay) \n",
    "    popt, pcov = curve_fit(func,rad(datax),rad(datay))\n",
    "    print(\"\\nAngle of prism and Refractive index of the prism from fitting:\\n\",popt,\"\\n\")\n",
    "    y_cal = np.array(func(rad(xlim),*popt)) * 180/np.pi\n",
    "    print(y_cal)\n",
    "    mini = min_dev(y_cal,xlim)\n",
    "    fig1, ax1 = plt.subplots() \n",
    "    plt.style.use(\"ggplot\")\n",
    "    plt.title(\"Graph between $\\delta$ vs i\")\n",
    "    ax1.set_xlabel('Angle of incidence (i)')\n",
    "    ax1.set_ylabel('Angle of deviation ($\\delta$)')\n",
    "    ax1.scatter(datax,datay,color = \"b\",label = \"Experimental data\")\n",
    "    ax1.scatter(mini[0],mini[1],c = \"g\",label = \"Minimum deviation point\")\n",
    "    ax1.plot(xlim,np.array(func(rad(xlim),*popt) * 180/np.pi), color = \"r\",label = \"Fitting curve\")\n",
    "    plt.legend()\n",
    "    plt.show()\n"
   ]
  },
  {
   "cell_type": "code",
   "execution_count": null,
   "metadata": {},
   "outputs": [],
   "source": []
  }
 ],
 "metadata": {
  "kernelspec": {
   "display_name": "Python 3",
   "language": "python",
   "name": "python3"
  },
  "language_info": {
   "codemirror_mode": {
    "name": "ipython",
    "version": 3
   },
   "file_extension": ".py",
   "mimetype": "text/x-python",
   "name": "python",
   "nbconvert_exporter": "python",
   "pygments_lexer": "ipython3",
   "version": "3.9.5"
  }
 },
 "nbformat": 4,
 "nbformat_minor": 4
}
